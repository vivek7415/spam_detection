{
 "cells": [
  {
   "cell_type": "code",
   "execution_count": 12,
   "metadata": {},
   "outputs": [],
   "source": [
    "import os \n",
    "from collections import Counter\n"
   ]
  },
  {
   "cell_type": "code",
   "execution_count": 13,
   "metadata": {},
   "outputs": [],
   "source": [
    "def make_dict():\n",
    "    direc = \"emails/\"\n",
    "    files = os.listdir(direc)\n",
    "    emails = [direc + email for email in files]\n",
    "    words = []\n",
    "    c = len(emails)\n",
    "#      print (c)\n",
    "\n",
    "# sabhi mails ko read krke unke words ko humne words array mail dal diya\n",
    "    for email in emails:\n",
    "        f = open(email,encoding=\"latin-1\")\n",
    "        blob = f.read()\n",
    "        words += blob.split(\" \")          \n",
    "#         print (c)\n",
    "#         c -= 1\n",
    "\n",
    "# yha words array mai kuch faltu ke symbols bhi honge to hum un symbols ko blank se replace kr diye\n",
    "    for i in range(len(words)):            \n",
    "        if not words[i].isalpha():\n",
    "            words[i] = \"\"\n",
    "            \n",
    "# yha each word ki counting a jyegi ki woh word emails mai kitni bar aya and humne jo symbols ko blank mai \n",
    "# replace kiya tha hum usse delete ke dainge\n",
    "    dictionary = Counter(words)      \n",
    "    del dictionary[\"\"]\n",
    "    return dictionary.most_common(3000)"
   ]
  },
  {
   "cell_type": "code",
   "execution_count": 14,
   "metadata": {},
   "outputs": [],
   "source": [
    "def make_dataset(dictionary):\n",
    "    direc = \"emails/\"\n",
    "    files = os.listdir(direc)\n",
    "    emails = [direc + email for email in files]\n",
    "    feature_set = []\n",
    "    labels = []\n",
    "    c = len(emails) \n",
    "    for email in emails:\n",
    "        data = []\n",
    "        f = open(email,encoding=\"latin-1\")\n",
    "        words = f.read().split(' ')\n",
    "        for entry in dictionary:\n",
    "            data.append(words.count(entry[0]))\n",
    "        feature_set.append(data)\n",
    "#         print (feature_set)\n",
    "        if \"ham\" in email:\n",
    "            labels.append(0)\n",
    "        if \"spam\" in email:\n",
    "            labels.append(1)\n",
    "#         print (c)\n",
    "#         c = c - 1\n",
    "    return feature_set, labels"
   ]
  },
  {
   "cell_type": "code",
   "execution_count": 15,
   "metadata": {
    "scrolled": false
   },
   "outputs": [
    {
     "name": "stdout",
     "output_type": "stream",
     "text": [
      "5172 5172\n"
     ]
    }
   ],
   "source": [
    "d = make_dict()\n",
    "features, labels = make_dataset(d)\n",
    "print(len(features),len(labels))"
   ]
  },
  {
   "cell_type": "code",
   "execution_count": 16,
   "metadata": {},
   "outputs": [],
   "source": [
    "from sklearn.naive_bayes import MultinomialNB\n",
    "from sklearn.model_selection import train_test_split as tts"
   ]
  },
  {
   "cell_type": "code",
   "execution_count": 17,
   "metadata": {},
   "outputs": [],
   "source": [
    "x_train, x_test, y_train, y_test = tts(features, labels, test_size=0.2)   "
   ]
  },
  {
   "cell_type": "code",
   "execution_count": 18,
   "metadata": {},
   "outputs": [
    {
     "data": {
      "text/plain": [
       "MultinomialNB(alpha=1.0, class_prior=None, fit_prior=True)"
      ]
     },
     "execution_count": 18,
     "metadata": {},
     "output_type": "execute_result"
    }
   ],
   "source": [
    "clf = MultinomialNB()\n",
    "clf.fit(x_train, y_train)"
   ]
  },
  {
   "cell_type": "code",
   "execution_count": 19,
   "metadata": {
    "scrolled": false
   },
   "outputs": [
    {
     "name": "stdout",
     "output_type": "stream",
     "text": [
      "0.9458937198067633\n"
     ]
    }
   ],
   "source": [
    "preds = clf.predict(x_test)\n",
    "from sklearn.metrics import accuracy_score\n",
    "print(accuracy_score(y_test, preds))"
   ]
  },
  {
   "cell_type": "code",
   "execution_count": 20,
   "metadata": {},
   "outputs": [
    {
     "name": "stdout",
     "output_type": "stream",
     "text": [
      ">madhav institue of techanology\n",
      "Spam!\n",
      ">taran\n",
      "Spam!\n",
      ">vivek\n",
      "Spam!\n",
      ">ndrdrrd\n",
      "Spam!\n",
      ">vh\n",
      "Spam!\n",
      ">jkk\n",
      "Not Spam\n",
      ">hh\n",
      "Not Spam\n",
      ">exit\n"
     ]
    }
   ],
   "source": [
    "while True:\n",
    "    features = []\n",
    "    inp = input(\">\")\n",
    "    if inp == 'exit':\n",
    "        break\n",
    "    for word in d:\n",
    "        features.append(inp.count(word[0]))\n",
    "    res = clf.predict([features])\n",
    "    print ([\"Not Spam\", \"Spam!\"][res[0]])"
   ]
  }
 ],
 "metadata": {
  "kernelspec": {
   "display_name": "Python 3",
   "language": "python",
   "name": "python3"
  },
  "language_info": {
   "codemirror_mode": {
    "name": "ipython",
    "version": 3
   },
   "file_extension": ".py",
   "mimetype": "text/x-python",
   "name": "python",
   "nbconvert_exporter": "python",
   "pygments_lexer": "ipython3",
   "version": "3.7.1"
  }
 },
 "nbformat": 4,
 "nbformat_minor": 2
}
